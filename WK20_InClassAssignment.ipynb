{
 "cells": [
  {
   "cell_type": "markdown",
   "id": "56039593",
   "metadata": {},
   "source": [
    "#### Week 20 In Class Assignment\n",
    "##### Angela Spencer February 9, 2022"
   ]
  },
  {
   "cell_type": "markdown",
   "id": "3099bb54",
   "metadata": {},
   "source": [
    "#### 1. Take the result of the following line of code (but use whatever available text you want) and write a function to concatenate the data back into sentences, with one readable sentence in each list.\n",
    "\n",
    "        sentences = nltk.corpus.gutenberg.sents(\"carroll-alice.txt\")[:10]"
   ]
  },
  {
   "cell_type": "code",
   "execution_count": 1,
   "id": "f335174e",
   "metadata": {},
   "outputs": [],
   "source": [
    "import nltk\n",
    "from nltk.tokenize import word_tokenize"
   ]
  },
  {
   "cell_type": "markdown",
   "id": "39e1b57d",
   "metadata": {},
   "source": [
    "https://stackabuse.com/python-how-to-flatten-list-of-lists/\n",
    "\n",
    "https://stackoverflow.com/questions/44158910/nlp-reverse-tokenizing-going-from-tokens-to-nicely-formatted-sentence"
   ]
  },
  {
   "cell_type": "code",
   "execution_count": 2,
   "id": "bbd9b064",
   "metadata": {},
   "outputs": [
    {
     "data": {
      "text/plain": [
       "['[', 'Leaves', 'of', 'Grass', 'by', 'Walt', 'Whitman', ...]"
      ]
     },
     "execution_count": 2,
     "metadata": {},
     "output_type": "execute_result"
    }
   ],
   "source": [
    "#nltk.download('gutenberg')\n",
    "nltk.corpus.gutenberg.fileids()\n",
    "\n",
    "aiw = nltk.corpus.gutenberg.words('whitman-leaves.txt')\n",
    "aiw"
   ]
  },
  {
   "cell_type": "code",
   "execution_count": 3,
   "id": "ddc342cb",
   "metadata": {},
   "outputs": [
    {
     "name": "stdout",
     "output_type": "stream",
     "text": [
      "[['[', 'Leaves', 'of', 'Grass', 'by', 'Walt', 'Whitman', '1855', ']'], ['Come', ',', 'said', 'my', 'soul', ',', 'Such', 'verses', 'for', 'my', 'Body', 'let', 'us', 'write', ',', '(', 'for', 'we', 'are', 'one', ',)', 'That', 'should', 'I', 'after', 'return', ',', 'Or', ',', 'long', ',', 'long', 'hence', ',', 'in', 'other', 'spheres', ',', 'There', 'to', 'some', 'group', 'of', 'mates', 'the', 'chants', 'resuming', ',', '(', 'Tallying', 'Earth', \"'\", 's', 'soil', ',', 'trees', ',', 'winds', ',', 'tumultuous', 'waves', ',)', 'Ever', 'with', 'pleas', \"'\", 'd', 'smile', 'I', 'may', 'keep', 'on', ',', 'Ever', 'and', 'ever', 'yet', 'the', 'verses', 'owning', '--', 'as', ',', 'first', ',', 'I', 'here', 'and', 'now', 'Signing', 'for', 'Soul', 'and', 'Body', ',', 'set', 'to', 'them', 'my', 'name', ','], ['Walt', 'Whitman']]\n"
     ]
    }
   ],
   "source": [
    "text = nltk.corpus.gutenberg.sents('whitman-leaves.txt')[:3]\n",
    "print(text)"
   ]
  },
  {
   "cell_type": "code",
   "execution_count": 4,
   "id": "a50c7d16",
   "metadata": {},
   "outputs": [
    {
     "name": "stdout",
     "output_type": "stream",
     "text": [
      "[ Leaves of Grass by Walt Whitman 1855 ]\n",
      "Come, said my soul, Such verses for my Body let us write, (for we are one,) That should I after return, Or, long, long hence, in other spheres, There to some group of mates the chants resuming, (Tallying Earth ' s soil, trees, winds, tumultuous waves,) Ever with pleas ' d smile I may keep on, Ever and ever yet the verses owning -- as, first, I here and now Signing for Soul and Body, set to them my name,\n",
      "Walt Whitman\n"
     ]
    }
   ],
   "source": [
    "for i in range(len(text)):\n",
    "    text[i] = ' '.join(word for word in text[i])\n",
    "    text[i] = text[i].replace(' ,', ',').replace(' )', ')').replace('( ', '(')\n",
    "    print(text[i])"
   ]
  },
  {
   "cell_type": "markdown",
   "id": "b5b1b34a",
   "metadata": {},
   "source": [
    "2. Create a function that accepts a list of values. Filter out all values that are numeric and return the new list.\n",
    "        Input:\n",
    "        [1,2,'a','b',7.6]\n",
    "        output:\n",
    "        [‘a’,’b’]"
   ]
  },
  {
   "cell_type": "code",
   "execution_count": 5,
   "id": "6ef21ed1",
   "metadata": {},
   "outputs": [],
   "source": [
    "def numeric_filter(input_list):\n",
    "    output_list = [x for x in input_list if isinstance(x, (int, float)) == False]\n",
    "    return output_list"
   ]
  },
  {
   "cell_type": "code",
   "execution_count": 6,
   "id": "a1e1e257",
   "metadata": {},
   "outputs": [
    {
     "data": {
      "text/plain": [
       "['a', 'b']"
      ]
     },
     "execution_count": 6,
     "metadata": {},
     "output_type": "execute_result"
    }
   ],
   "source": [
    "example = [1,2,'a','b',7.6]\n",
    "\n",
    "numeric_filter(example)"
   ]
  },
  {
   "cell_type": "code",
   "execution_count": 7,
   "id": "cb488d95",
   "metadata": {},
   "outputs": [],
   "source": [
    "#first function before list comprehension\n",
    "\n",
    "def numeric_filter(input_list):\n",
    "    output_list = []\n",
    "    \n",
    "    for x in input_list:\n",
    "        if isinstance(x, (int, float)) == False:\n",
    "            output_list.append(x)\n",
    "        else:\n",
    "            pass\n",
    "    return output_list"
   ]
  }
 ],
 "metadata": {
  "kernelspec": {
   "display_name": "Python 3 (ipykernel)",
   "language": "python",
   "name": "python3"
  },
  "language_info": {
   "codemirror_mode": {
    "name": "ipython",
    "version": 3
   },
   "file_extension": ".py",
   "mimetype": "text/x-python",
   "name": "python",
   "nbconvert_exporter": "python",
   "pygments_lexer": "ipython3",
   "version": "3.9.7"
  }
 },
 "nbformat": 4,
 "nbformat_minor": 5
}
